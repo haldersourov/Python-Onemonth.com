{
 "cells": [
  {
   "cell_type": "markdown",
   "metadata": {},
   "source": [
    "# Conditional Statements in Python"
   ]
  },
  {
   "cell_type": "code",
   "execution_count": 1,
   "metadata": {},
   "outputs": [
    {
     "name": "stdout",
     "output_type": "stream",
     "text": [
      "Do you want to hear a joke? Yes\n",
      "I'm against picketing, but I don't know how to show it.\n"
     ]
    }
   ],
   "source": [
    "answer = input(\"Do you want to hear a joke? \")\n",
    "\n",
    "if answer == \"Yes\":\n",
    "    print(\"I'm against picketing, but I don't know how to show it.\")\n",
    "    # Mitch Hedberg (RIP)"
   ]
  },
  {
   "cell_type": "markdown",
   "metadata": {},
   "source": [
    "# The \"or\" operator "
   ]
  },
  {
   "cell_type": "code",
   "execution_count": 4,
   "metadata": {},
   "outputs": [
    {
     "name": "stdout",
     "output_type": "stream",
     "text": [
      "Do you want to hear a joke? Blue\n",
      "I'm against picketing, but I don't know how to show it.\n"
     ]
    }
   ],
   "source": [
    "# Let's check, what what will be the output.\n",
    "\n",
    "answer = input(\"Do you want to hear a joke? \")\n",
    "\n",
    "if answer == \"Yes\" or \"yes\":\n",
    "    print(\"I'm against picketing, but I don't know how to show it.\")\n",
    "    # Mitch Hedberg (RIP)\n",
    "elif answer == \"No\":\n",
    "    print(\"Fine.\")\n",
    "else:\n",
    "    print(\"I don't understand.\")"
   ]
  },
  {
   "cell_type": "code",
   "execution_count": 5,
   "metadata": {},
   "outputs": [
    {
     "name": "stdout",
     "output_type": "stream",
     "text": [
      "Do you want to hear a joke? Blue\n",
      "I don't understand.\n"
     ]
    }
   ],
   "source": [
    "# What happened to the above mentioned code?\n",
    "# Let's fix the code.\n",
    "\n",
    "answer = input(\"Do you want to hear a joke? \")\n",
    "\n",
    "if answer == \"Yes\" or answer == \"yes\":\n",
    "    print(\"I'm against picketing, but I don't know how to show it.\")\n",
    "    # Mitch Hedberg (RIP)\n",
    "elif answer == \"No\" or answer == \"no\" :\n",
    "    print(\"Fine.\")\n",
    "else:\n",
    "    print(\"I don't understand.\")"
   ]
  },
  {
   "cell_type": "markdown",
   "metadata": {},
   "source": [
    "# Understanding \"in\" in Python"
   ]
  },
  {
   "cell_type": "code",
   "execution_count": 6,
   "metadata": {},
   "outputs": [
    {
     "name": "stdout",
     "output_type": "stream",
     "text": [
      "Do you want to hear a joke? Yes\n",
      "I don't understand.\n"
     ]
    }
   ],
   "source": [
    "answer = input(\"Do you want to hear a joke? \")\n",
    "\n",
    "affirmative_responses = [\"yes\", \"y\"]\n",
    "negative_responses = [\"no\", \"n\"]\n",
    "\n",
    "if answer in affirmative_responses:\n",
    "    print(\"I'm against picketing, but I don't know how to show it.\")\n",
    "    # Mitch Hedburg (RIP)\n",
    "elif answer in negative_responses:\n",
    "    print(\"Fine.\")\n",
    "else:\n",
    "    print(\"I don't understand.\")"
   ]
  },
  {
   "cell_type": "code",
   "execution_count": 7,
   "metadata": {},
   "outputs": [
    {
     "name": "stdout",
     "output_type": "stream",
     "text": [
      "Do you want to hear a joke? Yes\n",
      "I'm against picketing, but I don't know how to show it.\n"
     ]
    }
   ],
   "source": [
    "# Let's make the above mentioned code more efficient.\n",
    "\n",
    "answer = input(\"Do you want to hear a joke? \")\n",
    "\n",
    "affirmative_responses = [\"yes\", \"y\"]\n",
    "negative_responses = [\"no\", \"n\"]\n",
    "\n",
    "if answer.lower() in affirmative_responses:\n",
    "    print(\"I'm against picketing, but I don't know how to show it.\")\n",
    "    # Mitch Hedburg (RIP)\n",
    "elif answer.lower() in negative_responses:\n",
    "    print(\"Fine.\")\n",
    "else:\n",
    "    print(\"I don't understand.\")"
   ]
  },
  {
   "cell_type": "markdown",
   "metadata": {},
   "source": [
    "# List in Python"
   ]
  },
  {
   "cell_type": "code",
   "execution_count": 8,
   "metadata": {},
   "outputs": [],
   "source": [
    "the_count = [1, 2, 3, 4, 6]\n",
    "stocks = [\"AAPL\", \"GOOG\", \"TSLA\"]\n",
    "random_things = [\"Puppies\", 55, \"Anthony Weiner\", 1/2, [\"Oh no\", \"A list inside a list\"]]"
   ]
  },
  {
   "cell_type": "markdown",
   "metadata": {},
   "source": [
    "# For Looping"
   ]
  },
  {
   "cell_type": "code",
   "execution_count": 9,
   "metadata": {},
   "outputs": [
    {
     "name": "stdout",
     "output_type": "stream",
     "text": [
      "this is count: 1\n",
      "this is count: 2\n",
      "this is count: 3\n",
      "this is count: 4\n",
      "this is count: 6\n",
      "Stock in ticker: AAPL\n",
      "Stock in ticker: GOOG\n",
      "Stock in ticker: TSLA\n",
      "Here's a random things: Puppies\n",
      "Here's a random things: 55\n",
      "Here's a random things: Anthony Weiner\n",
      "Here's a random things: 0.5\n",
      "Here's a random things: ['Oh no', 'A list inside a list']\n"
     ]
    }
   ],
   "source": [
    "# this for-loop goes through a list\n",
    "for number in the_count:\n",
    "    print(\"this is count:\", number)\n",
    "\n",
    "# same as above\n",
    "for stock in stocks:\n",
    "    print(\"Stock in ticker:\", stock)\n",
    "\n",
    "# we can go through mixed lists too\n",
    "# I called it i (short for items) since I don't know what is in it.\n",
    "for i in random_things:\n",
    "    print(\"Here's a random things:\", i)"
   ]
  },
  {
   "cell_type": "markdown",
   "metadata": {},
   "source": [
    "# Removing Elements from a List"
   ]
  },
  {
   "cell_type": "code",
   "execution_count": 10,
   "metadata": {},
   "outputs": [
    {
     "name": "stdout",
     "output_type": "stream",
     "text": [
      "['Mattan', 'Sarah', 'Chris']\n",
      "['Mattan', 'Chris']\n"
     ]
    }
   ],
   "source": [
    "# we can also build lists, first let's start with an empty one\n",
    "people = []\n",
    "\n",
    "people.append(\"Mattan\")\n",
    "people.append(\"Sarah\")\n",
    "people.append(\"Chris\")\n",
    "\n",
    "# now we can print them out too\n",
    "print(people)\n",
    "\n",
    "# and remove some\n",
    "people.remove(\"Sarah\")\n",
    "print(people)"
   ]
  },
  {
   "cell_type": "code",
   "execution_count": 11,
   "metadata": {},
   "outputs": [
    {
     "name": "stdout",
     "output_type": "stream",
     "text": [
      "Person is: Mattan\n",
      "Person is: Chris\n"
     ]
    }
   ],
   "source": [
    "for person in people:\n",
    "    print(\"Person is:\", person)"
   ]
  },
  {
   "cell_type": "markdown",
   "metadata": {},
   "source": [
    "# Challenge"
   ]
  },
  {
   "cell_type": "code",
   "execution_count": 12,
   "metadata": {},
   "outputs": [
    {
     "name": "stdout",
     "output_type": "stream",
     "text": [
      "1 squared is 1\n",
      "2 squared is 4\n",
      "3 squared is 9\n",
      "4 squared is 16\n",
      "5 squared is 25\n",
      "6 squared is 36\n",
      "7 squared is 49\n",
      "8 squared is 64\n",
      "9 squared is 81\n",
      "10 squared is 100\n"
     ]
    }
   ],
   "source": [
    "# Challenge: Print out the square of the numbers 1 to 10\n",
    "\n",
    "for i in range(1, 11):\n",
    "    print(f\"{i} squared is {i ** 2}\")"
   ]
  },
  {
   "cell_type": "code",
   "execution_count": 13,
   "metadata": {},
   "outputs": [
    {
     "name": "stdout",
     "output_type": "stream",
     "text": [
      "1 squared is 1\n",
      "2 squared is 4\n",
      "3 squared is 9\n",
      "4 squared is 16\n",
      "5 squared is 25\n",
      "6 squared is 36\n",
      "7 squared is 49\n",
      "8 squared is 64\n",
      "9 squared is 81\n",
      "10 squared is 100\n"
     ]
    }
   ],
   "source": [
    "# Alternative way of the above mentioned code.\n",
    "\n",
    "for number in range(1, 11):\n",
    "    print(number, \"squared is\", number * number)"
   ]
  },
  {
   "cell_type": "markdown",
   "metadata": {},
   "source": [
    "# How to Access Data in a List"
   ]
  },
  {
   "cell_type": "code",
   "execution_count": 14,
   "metadata": {},
   "outputs": [
    {
     "name": "stdout",
     "output_type": "stream",
     "text": [
      "bear\n",
      "penguin\n"
     ]
    }
   ],
   "source": [
    "# here's how you access elements of a list\n",
    "\n",
    "animals = ['bear', 'tiger', 'penguin', 'zebra']\n",
    "first_animal = animals[0]\n",
    "print(first_animal)\n",
    "third_animal = animals[2]\n",
    "print(third_animal)"
   ]
  },
  {
   "cell_type": "code",
   "execution_count": 15,
   "metadata": {},
   "outputs": [
    {
     "name": "stdout",
     "output_type": "stream",
     "text": [
      "They're are this many things: 5\n"
     ]
    }
   ],
   "source": [
    "print(\"They're are this many things:\", len(random_things))"
   ]
  },
  {
   "cell_type": "code",
   "execution_count": 16,
   "metadata": {},
   "outputs": [
    {
     "name": "stdout",
     "output_type": "stream",
     "text": [
      "['Oh no', 'A list inside a list']\n"
     ]
    }
   ],
   "source": [
    "another_list = random_things[-1]\n",
    "print(another_list)"
   ]
  },
  {
   "cell_type": "markdown",
   "metadata": {},
   "source": [
    "# Consult The Dictionary"
   ]
  },
  {
   "cell_type": "code",
   "execution_count": 18,
   "metadata": {},
   "outputs": [
    {
     "name": "stdout",
     "output_type": "stream",
     "text": [
      "New York\n",
      "<class 'dict'>\n",
      "<class 'list'>\n",
      "Not found\n",
      "dict_keys(['NY', 'PA', 'CA'])\n",
      "dict_values(['New York', 'Pennsylvania', 'California'])\n",
      "{'NY': 'New York', 'PA': 'Pennsylvania', 'CA': 'California', 'FL': 'Florida'}\n",
      "Mattan\n",
      "11 Sexy Uses for Dictionaries\n"
     ]
    }
   ],
   "source": [
    "# states = ['NY', 'PA', 'CA']\n",
    "# states = ['New York', 'Pennsylvania', 'California']\n",
    "# states = ['New York', 'NY', 'Pennsylvania', 'PA', 'California', 'CA']\n",
    "\n",
    "states = {'NY': 'New York', 'PA': 'Pennsylvania', 'CA': 'California'}\n",
    "\n",
    "print(states['NY'])\n",
    "\n",
    "# print(states['FL']) # KeyError: 'FL'\n",
    "\n",
    "people = [\"Mattan\", \"Chris\"]\n",
    "\n",
    "print(type(states))\n",
    "print(type(people))\n",
    "\n",
    "print(states.get('FL', 'Not found'))\n",
    "\n",
    "print(states.keys())\n",
    "print(states.values())\n",
    "\n",
    "states['FL'] = 'Florida'\n",
    "print(states)\n",
    "\n",
    "# user = ['Mattan', 70, 10.5, 'Brown', 'Brown']\n",
    "user = {'name': 'Mattan', 'height': 70, 'shoe size': 10.5, 'hair': 'Brown', 'eyes': 'Brown'}\n",
    "blog_post = {'title': \"11 Sexy Uses for Dictionaries\", 'body': 'Blah blah blah'}\n",
    "\n",
    "print(user['name'])\n",
    "print(blog_post['title'])"
   ]
  },
  {
   "cell_type": "markdown",
   "metadata": {},
   "source": [
    "# A List In My Dictionary!"
   ]
  },
  {
   "cell_type": "code",
   "execution_count": 19,
   "metadata": {},
   "outputs": [
    {
     "name": "stdout",
     "output_type": "stream",
     "text": [
      "[{'name': 'Mattan', 'height': 70, 'shoe size': 10.5, 'hair': 'Brown', 'eyes': 'Brown'}, {'name': 'Chris', 'height': 68, 'shoe size': 10, 'hair': 'Brown', 'eyes': 'Brown'}, {'name': 'Sarah', 'height': 72, 'shoe size': 8, 'hair': 'Brown', 'eyes': 'Brown'}]\n"
     ]
    }
   ],
   "source": [
    "# Dictionaries and Lists can be inside of each other\n",
    "\n",
    "animal_sounds = {\n",
    "   \"cat\": [\"meow\", \"purr\"],\n",
    "   \"dog\": [\"woof\", \"bark\"],\n",
    "   \"fox\": []\n",
    "}\n",
    "\n",
    "mattan = {'name': 'Mattan', 'height': 70, 'shoe size': 10.5, 'hair': 'Brown', 'eyes': 'Brown'}\n",
    "chris = {'name': 'Chris', 'height': 68, 'shoe size': 10, 'hair': 'Brown', 'eyes': 'Brown'}\n",
    "sarah = {'name': 'Sarah', 'height': 72, 'shoe size': 8, 'hair': 'Brown', 'eyes': 'Brown'}\n",
    "\n",
    "people = [mattan, chris, sarah]\n",
    "\n",
    "print(people)"
   ]
  },
  {
   "cell_type": "code",
   "execution_count": 20,
   "metadata": {},
   "outputs": [
    {
     "name": "stdout",
     "output_type": "stream",
     "text": [
      "70\n",
      "68\n",
      "72\n"
     ]
    }
   ],
   "source": [
    "for person in people:\n",
    "    print(person.get('height'))"
   ]
  },
  {
   "cell_type": "markdown",
   "metadata": {},
   "source": [
    "# Python Functions"
   ]
  },
  {
   "cell_type": "code",
   "execution_count": 21,
   "metadata": {},
   "outputs": [
    {
     "name": "stdout",
     "output_type": "stream",
     "text": [
      "Hey Mattan!\n",
      "Hey Chris!\n",
      "MattanGriffel\n",
      "140\n"
     ]
    }
   ],
   "source": [
    "def greet(name):\n",
    "    return f\"Hey {name}!\"\n",
    "\n",
    "def concatenate(word_one, word_two):\n",
    "    return word_one + word_two\n",
    "\n",
    "def age_in_dog_years(age):\n",
    "    result = age * 7\n",
    "    return result\n",
    "\n",
    "print(greet('Mattan'))\n",
    "print(greet('Chris'))\n",
    "print(concatenate('Mattan', 'Griffel'))\n",
    "print(age_in_dog_years(20))"
   ]
  },
  {
   "cell_type": "markdown",
   "metadata": {},
   "source": [
    "# Functions Strike Back"
   ]
  },
  {
   "cell_type": "code",
   "execution_count": 22,
   "metadata": {},
   "outputs": [
    {
     "name": "stdout",
     "output_type": "stream",
     "text": [
      "GriffelMattan\n"
     ]
    }
   ],
   "source": [
    "print(concatenate(word_two='Mattan', word_one='Griffel'))"
   ]
  },
  {
   "cell_type": "markdown",
   "metadata": {},
   "source": [
    "# Function Challenge"
   ]
  },
  {
   "cell_type": "code",
   "execution_count": 23,
   "metadata": {},
   "outputs": [
    {
     "name": "stdout",
     "output_type": "stream",
     "text": [
      "ANANAB\n"
     ]
    }
   ],
   "source": [
    "def uppercase_and_reverse(text):\n",
    "    return reverse(text.upper())\n",
    "    \n",
    "def reverse(text):\n",
    "    return text [::-1]\n",
    "\n",
    "print(uppercase_and_reverse(\"banana\"))"
   ]
  },
  {
   "cell_type": "markdown",
   "metadata": {},
   "source": [
    "# FizzBuzz Challenge"
   ]
  },
  {
   "cell_type": "code",
   "execution_count": 24,
   "metadata": {},
   "outputs": [
    {
     "name": "stdout",
     "output_type": "stream",
     "text": [
      "1\n",
      "2\n",
      "Fizz\n",
      "4\n",
      "Buzz\n",
      "Fizz\n",
      "7\n",
      "8\n",
      "Fizz\n",
      "Buzz\n",
      "11\n",
      "Fizz\n",
      "13\n",
      "14\n",
      "FizzBuzz\n",
      "16\n",
      "17\n",
      "Fizz\n",
      "19\n"
     ]
    }
   ],
   "source": [
    "for number in range(1, 20):\n",
    "    if number % 3 == 0 and number % 5 == 0:\n",
    "        print(\"FizzBuzz\")\n",
    "    elif number % 3 == 0:\n",
    "        print(\"Fizz\")\n",
    "    elif number % 5 == 0:\n",
    "        print(\"Buzz\")\n",
    "    else:\n",
    "        print(number)"
   ]
  }
 ],
 "metadata": {
  "kernelspec": {
   "display_name": "Python 3",
   "language": "python",
   "name": "python3"
  },
  "language_info": {
   "codemirror_mode": {
    "name": "ipython",
    "version": 3
   },
   "file_extension": ".py",
   "mimetype": "text/x-python",
   "name": "python",
   "nbconvert_exporter": "python",
   "pygments_lexer": "ipython3",
   "version": "3.8.3"
  }
 },
 "nbformat": 4,
 "nbformat_minor": 4
}
